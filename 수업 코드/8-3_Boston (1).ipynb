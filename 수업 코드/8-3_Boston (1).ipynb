{
 "cells": [
  {
   "cell_type": "markdown",
   "metadata": {},
   "source": [
    "# 보스턴 집값 예측하기"
   ]
  },
  {
   "cell_type": "code",
   "execution_count": 2,
   "metadata": {},
   "outputs": [
    {
     "data": {
      "image/png": "[encoded data removed]",
      "text/plain": [
       "<Figure size 432x288 with 1 Axes>"
      ]
     },
     "metadata": {
      "needs_background": "light"
     },
     "output_type": "display_data"
    },
    {
     "name": "stdout",
     "output_type": "stream",
     "text": [
      "실제가격: 22.600, 예상가격: 23.851\n",
      "실제가격: 50.000, 예상가격: 25.965\n",
      "실제가격: 23.000, 예상가격: 22.355\n",
      "실제가격: 8.300, 예상가격: 9.288\n",
      "실제가격: 21.200, 예상가격: 20.392\n",
      "실제가격: 19.900, 예상가격: 21.181\n",
      "실제가격: 20.600, 예상가격: 20.167\n",
      "실제가격: 18.700, 예상가격: 21.420\n",
      "실제가격: 16.100, 예상가격: 18.133\n",
      "실제가격: 18.600, 예상가격: 12.622\n",
      "실제가격: 8.800, 예상가격: 55.464\n",
      "실제가격: 17.200, 예상가격: 11.180\n",
      "실제가격: 14.900, 예상가격: 15.346\n",
      "실제가격: 10.500, 예상가격: 8.565\n",
      "실제가격: 50.000, 예상가격: 48.585\n",
      "실제가격: 29.000, 예상가격: 30.619\n",
      "실제가격: 23.000, 예상가격: 20.117\n",
      "실제가격: 33.300, 예상가격: 36.165\n",
      "실제가격: 29.400, 예상가격: 30.428\n",
      "실제가격: 21.000, 예상가격: 22.222\n",
      "실제가격: 23.800, 예상가격: 22.118\n",
      "실제가격: 19.100, 예상가격: 16.211\n",
      "실제가격: 20.400, 예상가격: 18.168\n",
      "실제가격: 29.100, 예상가격: 23.070\n",
      "실제가격: 19.300, 예상가격: 22.781\n",
      "실제가격: 23.100, 예상가격: 11.726\n",
      "실제가격: 19.600, 예상가격: 18.589\n",
      "실제가격: 19.400, 예상가격: 12.352\n",
      "실제가격: 38.700, 예상가격: 36.620\n",
      "실제가격: 18.700, 예상가격: 17.741\n",
      "실제가격: 14.600, 예상가격: 13.067\n",
      "실제가격: 20.000, 예상가격: 15.690\n",
      "실제가격: 20.500, 예상가격: 18.362\n",
      "실제가격: 20.100, 예상가격: 20.106\n",
      "실제가격: 23.600, 예상가격: 22.950\n",
      "실제가격: 16.800, 예상가격: 16.112\n",
      "실제가격: 5.600, 예상가격: 8.731\n",
      "실제가격: 50.000, 예상가격: 26.515\n",
      "실제가격: 14.500, 예상가격: 13.997\n",
      "실제가격: 13.300, 예상가격: 15.849\n",
      "실제가격: 23.900, 예상가격: 24.338\n",
      "실제가격: 20.000, 예상가격: 22.281\n",
      "실제가격: 19.800, 예상가격: 20.889\n",
      "실제가격: 13.800, 예상가격: 13.638\n",
      "실제가격: 16.500, 예상가격: 24.848\n",
      "실제가격: 21.600, 예상가격: 22.667\n",
      "실제가격: 20.300, 예상가격: 21.236\n",
      "실제가격: 17.000, 예상가격: 14.820\n",
      "실제가격: 11.800, 예상가격: 16.031\n",
      "실제가격: 27.500, 예상가격: 19.729\n",
      "실제가격: 15.600, 예상가격: 13.690\n",
      "실제가격: 23.100, 예상가격: 20.843\n",
      "실제가격: 24.300, 예상가격: 19.090\n",
      "실제가격: 42.800, 예상가격: 34.117\n",
      "실제가격: 15.600, 예상가격: 14.029\n",
      "실제가격: 21.700, 예상가격: 21.107\n",
      "실제가격: 17.100, 예상가격: 21.947\n",
      "실제가격: 17.200, 예상가격: 18.671\n",
      "실제가격: 15.000, 예상가격: 27.950\n",
      "실제가격: 21.700, 예상가격: 19.308\n",
      "실제가격: 18.600, 예상가격: 21.554\n",
      "실제가격: 21.000, 예상가격: 20.992\n",
      "실제가격: 33.100, 예상가격: 32.183\n",
      "실제가격: 31.500, 예상가격: 32.135\n",
      "실제가격: 20.100, 예상가격: 17.022\n",
      "실제가격: 29.800, 예상가격: 33.312\n",
      "실제가격: 15.200, 예상가격: 15.415\n",
      "실제가격: 15.000, 예상가격: 17.950\n",
      "실제가격: 27.500, 예상가격: 11.860\n",
      "실제가격: 22.600, 예상가격: 23.363\n",
      "실제가격: 20.000, 예상가격: 18.590\n",
      "실제가격: 21.400, 예상가격: 21.092\n",
      "실제가격: 23.500, 예상가격: 27.084\n",
      "실제가격: 31.200, 예상가격: 28.961\n",
      "실제가격: 23.700, 예상가격: 26.721\n",
      "실제가격: 7.400, 예상가격: 9.696\n",
      "실제가격: 48.300, 예상가격: 38.029\n",
      "실제가격: 24.400, 예상가격: 21.839\n",
      "실제가격: 22.600, 예상가격: 21.427\n",
      "실제가격: 18.300, 예상가격: 19.457\n",
      "실제가격: 23.300, 예상가격: 22.797\n",
      "실제가격: 17.100, 예상가격: 18.641\n",
      "실제가격: 27.900, 예상가격: 24.115\n",
      "실제가격: 44.800, 예상가격: 38.634\n",
      "실제가격: 50.000, 예상가격: 39.315\n",
      "실제가격: 23.000, 예상가격: 23.371\n",
      "실제가격: 21.400, 예상가격: 20.116\n",
      "실제가격: 10.200, 예상가격: 11.632\n",
      "실제가격: 23.300, 예상가격: 29.934\n",
      "실제가격: 23.200, 예상가격: 16.214\n",
      "실제가격: 18.900, 예상가격: 18.883\n",
      "실제가격: 13.400, 예상가격: 13.752\n",
      "실제가격: 21.900, 예상가격: 21.972\n",
      "실제가격: 24.800, 예상가격: 27.929\n",
      "실제가격: 11.900, 예상가격: 20.962\n",
      "실제가격: 24.300, 예상가격: 21.514\n",
      "실제가격: 13.800, 예상가격: 9.506\n",
      "실제가격: 24.700, 예상가격: 21.892\n",
      "실제가격: 14.100, 예상가격: 15.855\n",
      "실제가격: 18.700, 예상가격: 19.781\n"
     ]
    }
   ],
   "source": [
    "#-*- coding: utf-8 -*-\n",
    "from tensorflow.keras.models import Sequential\n",
    "from tensorflow.keras.layers import Dense\n",
    "from sklearn.model_selection import train_test_split\n",
    "\n",
    "import numpy\n",
    "import pandas as pd\n",
    "import tensorflow as tf\n",
    "import matplotlib.pyplot as plt\n",
    "\n",
    "# seed 값 설정\n",
    "seed = 0\n",
    "numpy.random.seed(seed)\n",
    "tf.random.set_seed(seed)\n",
    "\n",
    "df = pd.read_csv(\"../dataset/housing.csv\", delim_whitespace=True, header=None)\n",
    "\n",
    "#print(df.info())\n",
    "#print(df.head())\n",
    "\n",
    "dataset = df.values\n",
    "X = dataset[:,0:13]\n",
    "Y = dataset[:,13]\n",
    "\n",
    "X_train, X_test, Y_train, Y_test = train_test_split(X, Y, test_size=0.3, random_state=seed)\n",
    "\n",
    "model = Sequential()\n",
    "model.add(Dense(30, input_dim=13, activation='relu'))\n",
    "model.add(Dense(6, activation='relu'))\n",
    "model.add(Dense(1))\n",
    "\n",
    "model.compile(loss='mean_squared_error', optimizer='adam', metrics=['accuracy'])\n",
    "\n",
    "history = model.fit(X_train, Y_train, validation_split = 0.2, epochs=3000, batch_size=50, verbose=0)\n",
    "\n",
    "model_vloss = history.history['val_loss'][100:]\n",
    "model_loss = history.history['loss'][100:]\n",
    "x_len = numpy.arange(len(model_loss))\n",
    "\n",
    "plt.plot(x_len, model_vloss, \"o\", c=\"red\", markersize=3)\n",
    "plt.plot(x_len, model_loss, \"o\", c=\"blue\", markersize=3)\n",
    "\n",
    "plt.show()\n",
    "\n",
    "Y_prediction = model.predict(X_test).flatten()\n",
    "\n",
    "for i in range(100):\n",
    "    label = Y_test[i]\n",
    "    prediction = Y_prediction[i]\n",
    "    print(\"실제가격: {:.3f}, 예상가격: {:.3f}\".format(label, prediction))\n",
    "\n",
    "\n",
    "\n",
    "\n",
    "\n"
   ]
  },
  {
   "cell_type": "code",
   "execution_count": 115,
   "metadata": {},
   "outputs": [
    {
     "data": {
      "text/plain": [
       "10.670110702514648"
      ]
     },
     "execution_count": 115,
     "metadata": {},
     "output_type": "execute_result"
    }
   ],
   "source": [
    "model_vloss[-1]"
   ]
  },
  {
   "cell_type": "code",
   "execution_count": null,
   "metadata": {},
   "outputs": [],
   "source": [
    "\n",
    "11.87840747833252\n",
    "\n",
    "\n",
    "\n",
    "\n",
    "\n",
    "\n",
    "\n",
    "\n",
    "\n",
    "\n",
    "\n",
    "\n",
    "\n"
   ]
  },
  {
   "cell_type": "code",
   "execution_count": 113,
   "metadata": {},
   "outputs": [
    {
     "data": {
      "text/plain": [
       "12.321508407592773"
      ]
     },
     "execution_count": 113,
     "metadata": {},
     "output_type": "execute_result"
    }
   ],
   "source": [
    "\n",
    "model_vloss[-4]\n",
    "\n"
   ]
  },
  {
   "cell_type": "code",
   "execution_count": null,
   "metadata": {},
   "outputs": [],
   "source": []
  }
 ],
 "metadata": {
  "kernelspec": {
   "display_name": "Python 3",
   "language": "python",
   "name": "python3"
  },
  "language_info": {
   "codemirror_mode": {
    "name": "ipython",
    "version": 3
   },
   "file_extension": ".py",
   "mimetype": "text/x-python",
   "name": "python",
   "nbconvert_exporter": "python",
   "pygments_lexer": "ipython3",
   "version": "3.8.5"
  }
 },
 "nbformat": 4,
 "nbformat_minor": 2
}
